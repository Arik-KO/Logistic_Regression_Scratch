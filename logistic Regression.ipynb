{
 "cells": [
  {
   "cell_type": "code",
   "execution_count": 4,
   "id": "1abc87ef",
   "metadata": {},
   "outputs": [],
   "source": [
    "import copy\n",
    "import matplotlib.pyplot as plt\n",
    "import numpy as np\n",
    "import pandas as pd\n",
    "import math"
   ]
  },
  {
   "cell_type": "code",
   "execution_count": 5,
   "id": "0cb3e735",
   "metadata": {},
   "outputs": [
    {
     "data": {
      "text/plain": [
       "(100,)"
      ]
     },
     "execution_count": 5,
     "metadata": {},
     "output_type": "execute_result"
    }
   ],
   "source": [
    "data = pd.read_csv('ex2data1.txt')\n",
    "x1 = data.x1.values\n",
    "x2 = data.x2.values\n",
    "x1.shape"
   ]
  },
  {
   "cell_type": "code",
   "execution_count": 6,
   "id": "9086add5",
   "metadata": {},
   "outputs": [],
   "source": [
    "x_train = np.column_stack((x1,x2))\n",
    "y_train = data.y.values"
   ]
  },
  {
   "cell_type": "code",
   "execution_count": 7,
   "id": "6cbdf584",
   "metadata": {},
   "outputs": [
    {
     "name": "stdout",
     "output_type": "stream",
     "text": [
      "type of x element is: <class 'numpy.ndarray'>\n"
     ]
    }
   ],
   "source": [
    "print('type of x element is:', type(x_train))"
   ]
  },
  {
   "cell_type": "code",
   "execution_count": 8,
   "id": "cbae0b44",
   "metadata": {},
   "outputs": [
    {
     "name": "stdout",
     "output_type": "stream",
     "text": [
      "first 5 elements of x_train: \n",
      " [[34.62365962 78.02469282]\n",
      " [30.28671077 43.89499752]\n",
      " [35.84740877 72.90219803]\n",
      " [60.18259939 86.3085521 ]\n",
      " [79.03273605 75.34437644]]\n"
     ]
    }
   ],
   "source": [
    "print('first 5 elements of x_train: \\n', x_train[:5])"
   ]
  },
  {
   "cell_type": "code",
   "execution_count": 44,
   "id": "b0deab1b",
   "metadata": {},
   "outputs": [
    {
     "name": "stdout",
     "output_type": "stream",
     "text": [
      "type of y element is: <class 'numpy.ndarray'>\n",
      "first 5 elements of y_train: \n",
      " [0 0 0 1 1]\n"
     ]
    }
   ],
   "source": [
    "print('type of y element is:', type(y_train))\n",
    "print('first 5 elements of y_train: \\n', y_train[:5])"
   ]
  },
  {
   "cell_type": "code",
   "execution_count": 1,
   "id": "cebe8d19",
   "metadata": {},
   "outputs": [],
   "source": [
    "def sigmoid(z):\n",
    "    g = 1 / (1+np.exp(-z))\n",
    "    return g"
   ]
  },
  {
   "cell_type": "code",
   "execution_count": 42,
   "id": "97b86cec",
   "metadata": {},
   "outputs": [],
   "source": [
    "def compute_cost(x,y,w,b, lambda_ = 1):\n",
    "    m,n = x.shape\n",
    "    loss = 0\n",
    "    for i in range(m):\n",
    "        z = np.dot(x[i],w)+b\n",
    "        f = sigmoid(z)\n",
    "        loss += (-y[i]*np.log(f) - (1-y[i])*np.log(1-f))\n",
    "    total_cost = loss/m\n",
    "    return total_cost\n",
    "    "
   ]
  },
  {
   "cell_type": "code",
   "execution_count": 61,
   "id": "cf5740af",
   "metadata": {},
   "outputs": [],
   "source": [
    "def compute_gradient(x,y,w,b,lamba_=1):\n",
    "    m, n = x.shape\n",
    "    dj_dw = np.zeros(w.shape)\n",
    "    dj_db = 0.\n",
    "\n",
    "    ### START CODE HERE ### \n",
    "    for i in range(m):\n",
    "        z_wb = 0\n",
    "        for j in range(n): \n",
    "            z_wb += x[i, j] * w[j]\n",
    "        z_wb += b\n",
    "        f_wb = sigmoid(z_wb)\n",
    "        \n",
    "        dj_db_i = f_wb - y[i]\n",
    "        dj_db += dj_db_i\n",
    "        \n",
    "        for j in range(n):\n",
    "            dj_dw[j] += (f_wb - y[i])* x[i][j]\n",
    "            \n",
    "    dj_dw = dj_dw /m\n",
    "    dj_db = dj_db/m\n",
    "    ### END CODE HERE ###\n",
    "\n",
    "        \n",
    "    return dj_db, dj_dw"
   ]
  },
  {
   "cell_type": "code",
   "execution_count": 37,
   "id": "29ec263f",
   "metadata": {},
   "outputs": [
    {
     "name": "stdout",
     "output_type": "stream",
     "text": [
      "sigmoid([ -1, 0, 1, 2]) = [0.26894142 0.5        0.73105858 0.88079708]\n"
     ]
    }
   ],
   "source": [
    "print (\"sigmoid([ -1, 0, 1, 2]) = \" + str(sigmoid(np.array([-1, 0, 1, 2]))))"
   ]
  },
  {
   "cell_type": "code",
   "execution_count": 46,
   "id": "d421b208",
   "metadata": {},
   "outputs": [
    {
     "ename": "SyntaxError",
     "evalue": "unexpected EOF while parsing (2829210253.py, line 1)",
     "output_type": "error",
     "traceback": [
      "\u001b[1;36m  Input \u001b[1;32mIn [46]\u001b[1;36m\u001b[0m\n\u001b[1;33m    def gradient_descent(x,y,w_in,b_in,cost_function,gradient_function,alpha,num_iters,lambda_):\u001b[0m\n\u001b[1;37m                                                                                                ^\u001b[0m\n\u001b[1;31mSyntaxError\u001b[0m\u001b[1;31m:\u001b[0m unexpected EOF while parsing\n"
     ]
    }
   ],
   "source": [
    "def gradient_descent(x,y,w_in,b_in,cost_function,gradient_function,alpha,num_iters,lambda_):\n",
    "    "
   ]
  },
  {
   "cell_type": "code",
   "execution_count": null,
   "id": "81677487",
   "metadata": {},
   "outputs": [],
   "source": []
  }
 ],
 "metadata": {
  "kernelspec": {
   "display_name": "Python 3 (ipykernel)",
   "language": "python",
   "name": "python3"
  },
  "language_info": {
   "codemirror_mode": {
    "name": "ipython",
    "version": 3
   },
   "file_extension": ".py",
   "mimetype": "text/x-python",
   "name": "python",
   "nbconvert_exporter": "python",
   "pygments_lexer": "ipython3",
   "version": "3.8.2"
  }
 },
 "nbformat": 4,
 "nbformat_minor": 5
}
