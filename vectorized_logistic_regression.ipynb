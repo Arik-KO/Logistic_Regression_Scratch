{
 "cells": [
  {
   "cell_type": "code",
   "execution_count": 2,
   "id": "b3f4fe0d",
   "metadata": {},
   "outputs": [
    {
     "name": "stdout",
     "output_type": "stream",
     "text": [
      "type of x element is: <class 'numpy.ndarray'>\n",
      "first 5 elements of x_train: \n",
      " [[34.62365962 78.02469282]\n",
      " [30.28671077 43.89499752]\n",
      " [35.84740877 72.90219803]\n",
      " [60.18259939 86.3085521 ]\n",
      " [79.03273605 75.34437644]]\n",
      "type of y element is: <class 'numpy.ndarray'>\n",
      "first 5 elements of y_train: \n",
      " [0 0 0 1 1]\n"
     ]
    }
   ],
   "source": [
    "import matplotlib.pyplot as plt\n",
    "import numpy as np\n",
    "import pandas as pd\n",
    "import math\n",
    "from utils import *\n",
    "data = pd.read_csv('ex2data1.txt')\n",
    "x1 = data.x1.values\n",
    "x2 = data.x2.values\n",
    "x_train = np.column_stack((x1,x2))\n",
    "y_train = data.y.values\n",
    "print('type of x element is:', type(x_train))\n",
    "print('first 5 elements of x_train: \\n', x_train[:5])\n",
    "print('type of y element is:', type(y_train))\n",
    "print('first 5 elements of y_train: \\n', y_train[:5])"
   ]
  },
  {
   "cell_type": "code",
   "execution_count": 3,
   "id": "613bb982",
   "metadata": {},
   "outputs": [],
   "source": [
    "def sigmoid(z):\n",
    "    g = 1/(1+np.exp(-z))\n",
    "    return g"
   ]
  },
  {
   "cell_type": "code",
   "execution_count": 11,
   "id": "b1ba5fe3",
   "metadata": {},
   "outputs": [],
   "source": [
    "def compute_cost(x,y,w,b):\n",
    "    m,n = x.shape\n",
    "    z = np.dot(x,w.T) + b\n",
    "    A = sigmoid(z)\n",
    "    loss = (-y*np.log(A) - (1-y)*np.log(1-A))\n",
    "    total_cost = np.sum(loss)/m\n",
    "    return total_cost\n",
    "    "
   ]
  },
  {
   "cell_type": "code",
   "execution_count": 12,
   "id": "d40097e5",
   "metadata": {},
   "outputs": [],
   "source": [
    "def compute_gradient(x,y,w,b):\n",
    "    m,n = x.shape\n",
    "    dw = np.zeros((x.shape[1]))\n",
    "    db = 0 \n",
    "    z = np.dot(x,w.T)+b\n",
    "    A = sigmoid(z)\n",
    "    dz = A - y\n",
    "    db = np.sum(dz)\n",
    "    dw = np.dot(dz,x)\n",
    "    db /= m\n",
    "    dw /= m\n",
    "    \n",
    "    return db,dw"
   ]
  },
  {
   "cell_type": "code",
   "execution_count": 13,
   "id": "c276d3aa",
   "metadata": {},
   "outputs": [],
   "source": [
    "def gradient_descent(x,y,w_in,b_in,cost_function,gradient_function,alpha,num_iters):\n",
    "    m,n = x.shape\n",
    "    j_history =[]\n",
    "    w_history = []\n",
    "    \n",
    "    for i in range(num_iters):\n",
    "        db,dw = gradient_function(x,y,w_in,b_in)\n",
    "        \n",
    "        w_in = w_in - dw*alpha\n",
    "        b_in = b_in - db*alpha\n",
    "        \n",
    "        if i < 100000:\n",
    "            cost = cost_function(x,y,w_in,b_in)\n",
    "            j_history.append(cost)\n",
    "        if i% math.ceil(num_iters/10) == 0 or i == (num_iters-1):\n",
    "            w_history.append(w_in)\n",
    "            print(f\"Iteration {i:4}: Cost {float(j_history[-1]):8.2f}   \")\n",
    "    \n",
    "    return w_in,b_in,j_history,w_history\n",
    "        "
   ]
  },
  {
   "cell_type": "code",
   "execution_count": 14,
   "id": "ae41052c",
   "metadata": {},
   "outputs": [],
   "source": [
    "def predict_function(x,w,b):\n",
    "    z = np.dot(x,w.T)+b\n",
    "    A = sigmoid(z)\n",
    "    m,n = x.shape\n",
    "    p = np.zeros(m)\n",
    "    for i in range(m):\n",
    "        p[i] = A[i]>= 0.5\n",
    "    return p"
   ]
  },
  {
   "cell_type": "code",
   "execution_count": 15,
   "id": "32f5ff49",
   "metadata": {},
   "outputs": [
    {
     "name": "stdout",
     "output_type": "stream",
     "text": [
      "Output of predict: shape (4,), value [0. 1. 1. 1.]\n"
     ]
    }
   ],
   "source": [
    "np.random.seed(1)\n",
    "tmp_w = np.random.randn(2)\n",
    "tmp_b = 0.3    \n",
    "tmp_X = np.random.randn(4, 2) - 0.5\n",
    "\n",
    "tmp_p = predict_function(tmp_X, tmp_w, tmp_b)\n",
    "print(f'Output of predict: shape {tmp_p.shape}, value {tmp_p}')"
   ]
  },
  {
   "cell_type": "code",
   "execution_count": 26,
   "id": "22f1ffdd",
   "metadata": {},
   "outputs": [
    {
     "ename": "ValueError",
     "evalue": "shapes (100,2) and (1,2) not aligned: 2 (dim 1) != 1 (dim 0)",
     "output_type": "error",
     "traceback": [
      "\u001b[1;31m---------------------------------------------------------------------------\u001b[0m",
      "\u001b[1;31mValueError\u001b[0m                                Traceback (most recent call last)",
      "Input \u001b[1;32mIn [26]\u001b[0m, in \u001b[0;36m<cell line: 10>\u001b[1;34m()\u001b[0m\n\u001b[0;32m      7\u001b[0m iterations \u001b[38;5;241m=\u001b[39m \u001b[38;5;241m10000\u001b[39m\n\u001b[0;32m      8\u001b[0m alpha \u001b[38;5;241m=\u001b[39m \u001b[38;5;241m0.001\u001b[39m\n\u001b[1;32m---> 10\u001b[0m w,b, J_history,_ \u001b[38;5;241m=\u001b[39m \u001b[43mgradient_descent\u001b[49m\u001b[43m(\u001b[49m\u001b[43mx_train\u001b[49m\u001b[43m \u001b[49m\u001b[43m,\u001b[49m\u001b[43my_train\u001b[49m\u001b[43m,\u001b[49m\u001b[43m \u001b[49m\u001b[43minitial_w\u001b[49m\u001b[43m,\u001b[49m\u001b[43m \u001b[49m\u001b[43minitial_b\u001b[49m\u001b[43m,\u001b[49m\u001b[43m \u001b[49m\n\u001b[0;32m     11\u001b[0m \u001b[43m                                   \u001b[49m\u001b[43mcompute_cost\u001b[49m\u001b[43m,\u001b[49m\u001b[43m \u001b[49m\u001b[43mcompute_gradient\u001b[49m\u001b[43m,\u001b[49m\u001b[43m \u001b[49m\u001b[43malpha\u001b[49m\u001b[43m,\u001b[49m\u001b[43m \u001b[49m\u001b[43miterations\u001b[49m\u001b[43m)\u001b[49m\n",
      "Input \u001b[1;32mIn [13]\u001b[0m, in \u001b[0;36mgradient_descent\u001b[1;34m(x, y, w_in, b_in, cost_function, gradient_function, alpha, num_iters)\u001b[0m\n\u001b[0;32m      4\u001b[0m w_history \u001b[38;5;241m=\u001b[39m []\n\u001b[0;32m      6\u001b[0m \u001b[38;5;28;01mfor\u001b[39;00m i \u001b[38;5;129;01min\u001b[39;00m \u001b[38;5;28mrange\u001b[39m(num_iters):\n\u001b[1;32m----> 7\u001b[0m     db,dw \u001b[38;5;241m=\u001b[39m \u001b[43mgradient_function\u001b[49m\u001b[43m(\u001b[49m\u001b[43mx\u001b[49m\u001b[43m,\u001b[49m\u001b[43my\u001b[49m\u001b[43m,\u001b[49m\u001b[43mw_in\u001b[49m\u001b[43m,\u001b[49m\u001b[43mb_in\u001b[49m\u001b[43m)\u001b[49m\n\u001b[0;32m      9\u001b[0m     w_in \u001b[38;5;241m=\u001b[39m w_in \u001b[38;5;241m-\u001b[39m dw\u001b[38;5;241m*\u001b[39malpha\n\u001b[0;32m     10\u001b[0m     b_in \u001b[38;5;241m=\u001b[39m b_in \u001b[38;5;241m-\u001b[39m db\u001b[38;5;241m*\u001b[39malpha\n",
      "Input \u001b[1;32mIn [12]\u001b[0m, in \u001b[0;36mcompute_gradient\u001b[1;34m(x, y, w, b)\u001b[0m\n\u001b[0;32m      3\u001b[0m dw \u001b[38;5;241m=\u001b[39m np\u001b[38;5;241m.\u001b[39mzeros((x\u001b[38;5;241m.\u001b[39mshape[\u001b[38;5;241m1\u001b[39m]))\n\u001b[0;32m      4\u001b[0m db \u001b[38;5;241m=\u001b[39m \u001b[38;5;241m0\u001b[39m \n\u001b[1;32m----> 5\u001b[0m z \u001b[38;5;241m=\u001b[39m \u001b[43mnp\u001b[49m\u001b[38;5;241;43m.\u001b[39;49m\u001b[43mdot\u001b[49m\u001b[43m(\u001b[49m\u001b[43mx\u001b[49m\u001b[43m,\u001b[49m\u001b[43mw\u001b[49m\u001b[38;5;241;43m.\u001b[39;49m\u001b[43mT\u001b[49m\u001b[43m)\u001b[49m\u001b[38;5;241m+\u001b[39mb\n\u001b[0;32m      6\u001b[0m A \u001b[38;5;241m=\u001b[39m sigmoid(z)\n\u001b[0;32m      7\u001b[0m dz \u001b[38;5;241m=\u001b[39m A \u001b[38;5;241m-\u001b[39m y\n",
      "File \u001b[1;32m<__array_function__ internals>:180\u001b[0m, in \u001b[0;36mdot\u001b[1;34m(*args, **kwargs)\u001b[0m\n",
      "\u001b[1;31mValueError\u001b[0m: shapes (100,2) and (1,2) not aligned: 2 (dim 1) != 1 (dim 0)"
     ]
    }
   ],
   "source": [
    "np.random.seed(1)\n",
    "initial_w = 0.01 * (np.random.rand(2).reshape(-1,1) - 0.5)\n",
    "initial_b = -8\n",
    "\n",
    "\n",
    "# Some gradient descent settings\n",
    "iterations = 10000\n",
    "alpha = 0.001\n",
    "\n",
    "w,b, J_history,_ = gradient_descent(x_train ,y_train, initial_w, initial_b, \n",
    "                                   compute_cost, compute_gradient, alpha, iterations)"
   ]
  },
  {
   "cell_type": "code",
   "execution_count": null,
   "id": "0d800973",
   "metadata": {},
   "outputs": [],
   "source": []
  }
 ],
 "metadata": {
  "kernelspec": {
   "display_name": "Python 3 (ipykernel)",
   "language": "python",
   "name": "python3"
  },
  "language_info": {
   "codemirror_mode": {
    "name": "ipython",
    "version": 3
   },
   "file_extension": ".py",
   "mimetype": "text/x-python",
   "name": "python",
   "nbconvert_exporter": "python",
   "pygments_lexer": "ipython3",
   "version": "3.8.2"
  }
 },
 "nbformat": 4,
 "nbformat_minor": 5
}
